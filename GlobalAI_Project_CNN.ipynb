{
  "nbformat": 4,
  "nbformat_minor": 0,
  "metadata": {
    "colab": {
      "provenance": [],
      "authorship_tag": "ABX9TyOxeFUcNwytOiGfBMqUSEdn",
      "include_colab_link": true
    },
    "kernelspec": {
      "name": "python3",
      "display_name": "Python 3"
    },
    "language_info": {
      "name": "python"
    },
    "accelerator": "GPU"
  },
  "cells": [
    {
      "cell_type": "markdown",
      "metadata": {
        "id": "view-in-github",
        "colab_type": "text"
      },
      "source": [
        "<a href=\"https://colab.research.google.com/github/grkmkcgl/globalai_bootcamp_project/blob/main/GlobalAI_Project_CNN.ipynb\" target=\"_parent\"><img src=\"https://colab.research.google.com/assets/colab-badge.svg\" alt=\"Open In Colab\"/></a>"
      ]
    },
    {
      "cell_type": "markdown",
      "source": [
        "**Kütüphanelerin import edilmesi**"
      ],
      "metadata": {
        "id": "T-sQGXfEtCTt"
      }
    },
    {
      "cell_type": "code",
      "execution_count": null,
      "metadata": {
        "id": "wxfnKPuV0aI7"
      },
      "outputs": [],
      "source": [
        "import tensorflow as tf\n",
        "import numpy as np\n",
        "import matplotlib.pyplot as plt\n",
        "import pandas as pd\n",
        "from sklearn.model_selection import train_test_split"
      ]
    },
    {
      "cell_type": "markdown",
      "source": [
        "**Dosyaların okunması**"
      ],
      "metadata": {
        "id": "NOwSm12RtFLi"
      }
    },
    {
      "cell_type": "code",
      "source": [
        "X_train = pd.read_csv(\"X_train.csv\", compression='gzip')\n",
        "X_test = pd.read_csv(\"X_test.csv\", compression='gzip')\n",
        "X_val = pd.read_csv(\"X_val.csv\", compression='gzip')\n",
        "y_test = pd.read_csv(\"y_test.csv\", compression='gzip')\n",
        "y_train = pd.read_csv(\"y_train.csv\", compression='gzip')\n",
        "y_val = pd.read_csv(\"y_val.csv\", compression='gzip')\n",
        "\n",
        "X_train = np.array(X_train).reshape(-1, 32, 32, 1)\n",
        "X_test = np.array(X_test).reshape(-1, 32, 32, 1)\n",
        "X_val = np.array(X_val).reshape(-1, 32, 32, 1)"
      ],
      "metadata": {
        "id": "fmGm7k7Anqbw"
      },
      "execution_count": null,
      "outputs": []
    },
    {
      "cell_type": "markdown",
      "source": [
        "# CREATING CNN"
      ],
      "metadata": {
        "id": "ezArvFLMP78p"
      }
    },
    {
      "cell_type": "markdown",
      "source": [
        "**Verileri kontrol etme**"
      ],
      "metadata": {
        "id": "2esNSbMutPDr"
      }
    },
    {
      "cell_type": "code",
      "source": [
        "print(f\"X_train: {len(X_train)}\")\n",
        "print(f\"X_val: {len(X_val)}\")\n",
        "print(f\"X_test: {len(X_test)}\")\n",
        "print(f\"y_train: {len(y_train)}\")\n",
        "print(f\"y_val: {len(y_val)}\")\n",
        "print(f\"y_test: {len(y_test)}\")"
      ],
      "metadata": {
        "colab": {
          "base_uri": "https://localhost:8080/"
        },
        "id": "neCdPCguQyUV",
        "outputId": "f58e9ea5-3767-4807-fe1f-768de8ba5ecb"
      },
      "execution_count": null,
      "outputs": [
        {
          "output_type": "stream",
          "name": "stdout",
          "text": [
            "X_train: 6985\n",
            "X_val: 873\n",
            "X_test: 874\n",
            "y_train: 6985\n",
            "y_val: 873\n",
            "y_test: 874\n"
          ]
        }
      ]
    },
    {
      "cell_type": "code",
      "source": [
        "print(X_train[-1:])\n",
        "print(y_train.head())"
      ],
      "metadata": {
        "colab": {
          "base_uri": "https://localhost:8080/"
        },
        "id": "Aw1Rvr06tbt6",
        "outputId": "d96861ae-8489-47b5-83c9-ca7b04e82727"
      },
      "execution_count": null,
      "outputs": [
        {
          "output_type": "stream",
          "name": "stdout",
          "text": [
            "[[[[0.        ]\n",
            "   [0.        ]\n",
            "   [0.        ]\n",
            "   ...\n",
            "   [0.        ]\n",
            "   [0.        ]\n",
            "   [0.        ]]\n",
            "\n",
            "  [[0.        ]\n",
            "   [0.        ]\n",
            "   [0.        ]\n",
            "   ...\n",
            "   [0.        ]\n",
            "   [0.        ]\n",
            "   [0.        ]]\n",
            "\n",
            "  [[0.        ]\n",
            "   [0.        ]\n",
            "   [0.        ]\n",
            "   ...\n",
            "   [0.        ]\n",
            "   [0.        ]\n",
            "   [0.        ]]\n",
            "\n",
            "  ...\n",
            "\n",
            "  [[0.22352941]\n",
            "   [0.2627451 ]\n",
            "   [0.29803922]\n",
            "   ...\n",
            "   [0.27843137]\n",
            "   [0.25882353]\n",
            "   [0.29803922]]\n",
            "\n",
            "  [[0.19607843]\n",
            "   [0.27843137]\n",
            "   [0.29019608]\n",
            "   ...\n",
            "   [0.34509804]\n",
            "   [0.22352941]\n",
            "   [0.31372549]]\n",
            "\n",
            "  [[0.30196078]\n",
            "   [0.55294118]\n",
            "   [0.48235294]\n",
            "   ...\n",
            "   [0.57254902]\n",
            "   [0.74509804]\n",
            "   [0.69803922]]]]\n",
            "   0\n",
            "0  5\n",
            "1  0\n",
            "2  0\n",
            "3  4\n",
            "4  5\n"
          ]
        }
      ]
    },
    {
      "cell_type": "code",
      "source": [
        "# tf modeline dönüştürme\n",
        "X_train = tf.stack(X_train)\n",
        "y_train = tf.stack(y_train)\n",
        "X_val = tf.stack(X_val)\n",
        "y_val = tf.stack(y_val)\n",
        "X_test = tf.stack(X_test)\n",
        "y_test = tf.stack(y_test)"
      ],
      "metadata": {
        "id": "Qy4SMlAetV5J"
      },
      "execution_count": null,
      "outputs": []
    },
    {
      "cell_type": "code",
      "source": [
        "# Create model\n",
        "\n",
        "model = tf.keras.Sequential()"
      ],
      "metadata": {
        "id": "fFkN2NssQ6dy"
      },
      "execution_count": null,
      "outputs": []
    },
    {
      "cell_type": "code",
      "source": [
        "# Input layers\n",
        "\n",
        "model.add(tf.keras.layers.Conv2D(32,\n",
        "                                 kernel_size=(3,3),\n",
        "                                 strides=(1,1),\n",
        "                                 padding='same',\n",
        "                                 activation='relu',\n",
        "                                 input_shape=(32,32,1)))\n",
        "\n",
        "model.add(tf.keras.layers.MaxPooling2D((2,2)))"
      ],
      "metadata": {
        "id": "A5DGQqlOTBch"
      },
      "execution_count": null,
      "outputs": []
    },
    {
      "cell_type": "code",
      "source": [
        "# Convolution layers\n",
        "\n",
        "model.add(tf.keras.layers.Conv2D(512,\n",
        "                                 kernel_size=(3,3),\n",
        "                                 strides=(1,1),\n",
        "                                 padding='same',\n",
        "                                 activation='relu',\n",
        "                                 ))\n",
        "\n",
        "model.add(tf.keras.layers.MaxPooling2D((2,2)))\n",
        "\n",
        "model.add(tf.keras.layers.Conv2D(512,\n",
        "                                 kernel_size=(3,3),\n",
        "                                 strides=(1,1),\n",
        "                                 padding='same',\n",
        "                                 activation='relu',\n",
        "                                 ))"
      ],
      "metadata": {
        "id": "6OkI4QyGTJ8T"
      },
      "execution_count": null,
      "outputs": []
    },
    {
      "cell_type": "code",
      "source": [
        "# Flatten layer\n",
        "model.add(tf.keras.layers.Flatten())"
      ],
      "metadata": {
        "id": "lX7jufqKTfoN"
      },
      "execution_count": null,
      "outputs": []
    },
    {
      "cell_type": "code",
      "source": [
        "# Classification \n",
        "model.add(tf.keras.layers.Dense(128, activation='relu'))\n",
        "model.add(tf.keras.layers.Dropout(0.5))\n",
        "\n",
        "model.add(tf.keras.layers.Dense(128, activation='relu'))\n",
        "model.add(tf.keras.layers.Dropout(0.5)) "
      ],
      "metadata": {
        "id": "wmbDwvAtTlaE"
      },
      "execution_count": null,
      "outputs": []
    },
    {
      "cell_type": "code",
      "source": [
        "# Output\n",
        "model.add(tf.keras.layers.Dense(10, activation='softmax'))"
      ],
      "metadata": {
        "id": "09XX-j-NT2iM"
      },
      "execution_count": null,
      "outputs": []
    },
    {
      "cell_type": "code",
      "source": [
        "# Compile model\n",
        "model.compile(optimizer = 'adam',\n",
        "              loss='sparse_categorical_crossentropy',\n",
        "              metrics=['accuracy'])"
      ],
      "metadata": {
        "id": "_OMXA7NKT8L0"
      },
      "execution_count": null,
      "outputs": []
    },
    {
      "cell_type": "code",
      "source": [
        "# Fit model\n",
        "results = model.fit(X_train, y_train,\n",
        "                    batch_size = 128,\n",
        "                    epochs=50,\n",
        "                    validation_data=(X_val, y_val))"
      ],
      "metadata": {
        "colab": {
          "base_uri": "https://localhost:8080/"
        },
        "id": "RKb9lOUKUKu9",
        "outputId": "2bbfea62-5d85-4085-a77a-7b53afdc53e9"
      },
      "execution_count": null,
      "outputs": [
        {
          "output_type": "stream",
          "name": "stdout",
          "text": [
            "Epoch 1/50\n",
            "55/55 [==============================] - 3s 31ms/step - loss: 1.9445 - accuracy: 0.2826 - val_loss: 1.3727 - val_accuracy: 0.5063\n",
            "Epoch 2/50\n",
            "55/55 [==============================] - 1s 27ms/step - loss: 1.4676 - accuracy: 0.4775 - val_loss: 1.0693 - val_accuracy: 0.6438\n",
            "Epoch 3/50\n",
            "55/55 [==============================] - 2s 29ms/step - loss: 1.2460 - accuracy: 0.5622 - val_loss: 0.8854 - val_accuracy: 0.7171\n",
            "Epoch 4/50\n",
            "55/55 [==============================] - 2s 29ms/step - loss: 1.0632 - accuracy: 0.6371 - val_loss: 0.8985 - val_accuracy: 0.7365\n",
            "Epoch 5/50\n",
            "55/55 [==============================] - 2s 28ms/step - loss: 0.9638 - accuracy: 0.6806 - val_loss: 0.7333 - val_accuracy: 0.7675\n",
            "Epoch 6/50\n",
            "55/55 [==============================] - 2s 29ms/step - loss: 0.8140 - accuracy: 0.7370 - val_loss: 0.6481 - val_accuracy: 0.7938\n",
            "Epoch 7/50\n",
            "55/55 [==============================] - 2s 29ms/step - loss: 0.7126 - accuracy: 0.7671 - val_loss: 0.6124 - val_accuracy: 0.8041\n",
            "Epoch 8/50\n",
            "55/55 [==============================] - 2s 29ms/step - loss: 0.6179 - accuracy: 0.8072 - val_loss: 0.5509 - val_accuracy: 0.8202\n",
            "Epoch 9/50\n",
            "55/55 [==============================] - 2s 29ms/step - loss: 0.5999 - accuracy: 0.8113 - val_loss: 0.5229 - val_accuracy: 0.8351\n",
            "Epoch 10/50\n",
            "55/55 [==============================] - 2s 28ms/step - loss: 0.5168 - accuracy: 0.8368 - val_loss: 0.4623 - val_accuracy: 0.8545\n",
            "Epoch 11/50\n",
            "55/55 [==============================] - 2s 29ms/step - loss: 0.4559 - accuracy: 0.8540 - val_loss: 0.4798 - val_accuracy: 0.8465\n",
            "Epoch 12/50\n",
            "55/55 [==============================] - 2s 28ms/step - loss: 0.4226 - accuracy: 0.8643 - val_loss: 0.4538 - val_accuracy: 0.8511\n",
            "Epoch 13/50\n",
            "55/55 [==============================] - 2s 29ms/step - loss: 0.3912 - accuracy: 0.8754 - val_loss: 0.4330 - val_accuracy: 0.8648\n",
            "Epoch 14/50\n",
            "55/55 [==============================] - 2s 29ms/step - loss: 0.3372 - accuracy: 0.8906 - val_loss: 0.4435 - val_accuracy: 0.8706\n",
            "Epoch 15/50\n",
            "55/55 [==============================] - 2s 29ms/step - loss: 0.3093 - accuracy: 0.9021 - val_loss: 0.4544 - val_accuracy: 0.8671\n",
            "Epoch 16/50\n",
            "55/55 [==============================] - 2s 28ms/step - loss: 0.2812 - accuracy: 0.9117 - val_loss: 0.4806 - val_accuracy: 0.8683\n",
            "Epoch 17/50\n",
            "55/55 [==============================] - 2s 29ms/step - loss: 0.2830 - accuracy: 0.9104 - val_loss: 0.3997 - val_accuracy: 0.8832\n",
            "Epoch 18/50\n",
            "55/55 [==============================] - 2s 29ms/step - loss: 0.2485 - accuracy: 0.9205 - val_loss: 0.5776 - val_accuracy: 0.8522\n",
            "Epoch 19/50\n",
            "55/55 [==============================] - 2s 28ms/step - loss: 0.2654 - accuracy: 0.9152 - val_loss: 0.4244 - val_accuracy: 0.8843\n",
            "Epoch 20/50\n",
            "55/55 [==============================] - 2s 28ms/step - loss: 0.2299 - accuracy: 0.9253 - val_loss: 0.4123 - val_accuracy: 0.8900\n",
            "Epoch 21/50\n",
            "55/55 [==============================] - 2s 29ms/step - loss: 0.1978 - accuracy: 0.9344 - val_loss: 0.3869 - val_accuracy: 0.8900\n",
            "Epoch 22/50\n",
            "55/55 [==============================] - 2s 29ms/step - loss: 0.1597 - accuracy: 0.9459 - val_loss: 0.3855 - val_accuracy: 0.8877\n",
            "Epoch 23/50\n",
            "55/55 [==============================] - 2s 29ms/step - loss: 0.1849 - accuracy: 0.9406 - val_loss: 0.4187 - val_accuracy: 0.8923\n",
            "Epoch 24/50\n",
            "55/55 [==============================] - 2s 29ms/step - loss: 0.1497 - accuracy: 0.9496 - val_loss: 0.4520 - val_accuracy: 0.8866\n",
            "Epoch 25/50\n",
            "55/55 [==============================] - 2s 29ms/step - loss: 0.1575 - accuracy: 0.9475 - val_loss: 0.4664 - val_accuracy: 0.8900\n",
            "Epoch 26/50\n",
            "55/55 [==============================] - 2s 29ms/step - loss: 0.1368 - accuracy: 0.9565 - val_loss: 0.4994 - val_accuracy: 0.8958\n",
            "Epoch 27/50\n",
            "55/55 [==============================] - 2s 28ms/step - loss: 0.1356 - accuracy: 0.9539 - val_loss: 0.4918 - val_accuracy: 0.8889\n",
            "Epoch 28/50\n",
            "55/55 [==============================] - 2s 29ms/step - loss: 0.1253 - accuracy: 0.9576 - val_loss: 0.5607 - val_accuracy: 0.8774\n",
            "Epoch 29/50\n",
            "55/55 [==============================] - 2s 28ms/step - loss: 0.1120 - accuracy: 0.9636 - val_loss: 0.4923 - val_accuracy: 0.8912\n",
            "Epoch 30/50\n",
            "55/55 [==============================] - 2s 27ms/step - loss: 0.1009 - accuracy: 0.9646 - val_loss: 0.4935 - val_accuracy: 0.8958\n",
            "Epoch 31/50\n",
            "55/55 [==============================] - 2s 27ms/step - loss: 0.0971 - accuracy: 0.9679 - val_loss: 0.5499 - val_accuracy: 0.8958\n",
            "Epoch 32/50\n",
            "55/55 [==============================] - 2s 27ms/step - loss: 0.1114 - accuracy: 0.9623 - val_loss: 0.5680 - val_accuracy: 0.8866\n",
            "Epoch 33/50\n",
            "55/55 [==============================] - 1s 27ms/step - loss: 0.1052 - accuracy: 0.9649 - val_loss: 0.4984 - val_accuracy: 0.8935\n",
            "Epoch 34/50\n",
            "55/55 [==============================] - 2s 29ms/step - loss: 0.1039 - accuracy: 0.9636 - val_loss: 0.4833 - val_accuracy: 0.9003\n",
            "Epoch 35/50\n",
            "55/55 [==============================] - 2s 27ms/step - loss: 0.1013 - accuracy: 0.9666 - val_loss: 0.4567 - val_accuracy: 0.8981\n",
            "Epoch 36/50\n",
            "55/55 [==============================] - 2s 29ms/step - loss: 0.1062 - accuracy: 0.9649 - val_loss: 0.5510 - val_accuracy: 0.9026\n",
            "Epoch 37/50\n",
            "55/55 [==============================] - 2s 29ms/step - loss: 0.0830 - accuracy: 0.9719 - val_loss: 0.4717 - val_accuracy: 0.9026\n",
            "Epoch 38/50\n",
            "55/55 [==============================] - 2s 29ms/step - loss: 0.1040 - accuracy: 0.9642 - val_loss: 0.4871 - val_accuracy: 0.8935\n",
            "Epoch 39/50\n",
            "55/55 [==============================] - 2s 27ms/step - loss: 0.0740 - accuracy: 0.9747 - val_loss: 0.4963 - val_accuracy: 0.9038\n",
            "Epoch 40/50\n",
            "55/55 [==============================] - 2s 28ms/step - loss: 0.0779 - accuracy: 0.9747 - val_loss: 0.5095 - val_accuracy: 0.8958\n",
            "Epoch 41/50\n",
            "55/55 [==============================] - 2s 29ms/step - loss: 0.0652 - accuracy: 0.9797 - val_loss: 0.5838 - val_accuracy: 0.9015\n",
            "Epoch 42/50\n",
            "55/55 [==============================] - 1s 27ms/step - loss: 0.0667 - accuracy: 0.9777 - val_loss: 0.5189 - val_accuracy: 0.9003\n",
            "Epoch 43/50\n",
            "55/55 [==============================] - 2s 29ms/step - loss: 0.0717 - accuracy: 0.9752 - val_loss: 0.6273 - val_accuracy: 0.8912\n",
            "Epoch 44/50\n",
            "55/55 [==============================] - 2s 28ms/step - loss: 0.0688 - accuracy: 0.9782 - val_loss: 0.5230 - val_accuracy: 0.8981\n",
            "Epoch 45/50\n",
            "55/55 [==============================] - 2s 29ms/step - loss: 0.0611 - accuracy: 0.9815 - val_loss: 0.5430 - val_accuracy: 0.8889\n",
            "Epoch 46/50\n",
            "55/55 [==============================] - 2s 27ms/step - loss: 0.0755 - accuracy: 0.9749 - val_loss: 0.5813 - val_accuracy: 0.9015\n",
            "Epoch 47/50\n",
            "55/55 [==============================] - 2s 27ms/step - loss: 0.0829 - accuracy: 0.9728 - val_loss: 0.5215 - val_accuracy: 0.9015\n",
            "Epoch 48/50\n",
            "55/55 [==============================] - 1s 27ms/step - loss: 0.0608 - accuracy: 0.9787 - val_loss: 0.6087 - val_accuracy: 0.8958\n",
            "Epoch 49/50\n",
            "55/55 [==============================] - 2s 27ms/step - loss: 0.0698 - accuracy: 0.9772 - val_loss: 0.6590 - val_accuracy: 0.8900\n",
            "Epoch 50/50\n",
            "55/55 [==============================] - 1s 27ms/step - loss: 0.0742 - accuracy: 0.9771 - val_loss: 0.5834 - val_accuracy: 0.9015\n"
          ]
        }
      ]
    },
    {
      "cell_type": "code",
      "source": [
        "# Performance (loss)\n",
        "plt.plot(results.history['loss'], label='loss')\n",
        "plt.plot(results.history['val_loss'], label='val_loss')\n",
        "plt.xlabel(\"epoch\")\n",
        "plt.ylabel(\"loss\")\n",
        "plt.legend()\n",
        "\n",
        "plt.show()"
      ],
      "metadata": {
        "id": "zlqQIWTyUcoz",
        "colab": {
          "base_uri": "https://localhost:8080/",
          "height": 279
        },
        "outputId": "afd73418-2371-4c19-e1cf-d00068be7855"
      },
      "execution_count": null,
      "outputs": [
        {
          "output_type": "display_data",
          "data": {
            "text/plain": [
              "<Figure size 432x288 with 1 Axes>"
            ],
            "image/png": "[encoded data removed]"
          },
          "metadata": {
            "needs_background": "light"
          }
        }
      ]
    },
    {
      "cell_type": "code",
      "source": [
        "# Performance (accuracy)\n",
        "plt.plot(results.history['accuracy'], label='accuracy')\n",
        "plt.plot(results.history['val_accuracy'], label='val_accuracy')\n",
        "plt.xlabel(\"epoch\")\n",
        "plt.ylabel(\"accuracy\")\n",
        "\n",
        "plt.legend()\n",
        "plt.show()"
      ],
      "metadata": {
        "id": "b7YHaLF4UhB8",
        "colab": {
          "base_uri": "https://localhost:8080/",
          "height": 279
        },
        "outputId": "841f27c9-2998-456c-a19a-30a91387d4ac"
      },
      "execution_count": null,
      "outputs": [
        {
          "output_type": "display_data",
          "data": {
            "text/plain": [
              "<Figure size 432x288 with 1 Axes>"
            ],
            "image/png": "[encoded data removed]"
          },
          "metadata": {
            "needs_background": "light"
          }
        }
      ]
    },
    {
      "cell_type": "code",
      "source": [
        "# Evaluation\n",
        "model.evaluate(X_test, y_test)"
      ],
      "metadata": {
        "id": "FZ6HTviXUpUE",
        "colab": {
          "base_uri": "https://localhost:8080/"
        },
        "outputId": "f0d78737-dc7d-42d6-ecf8-07c1f4fdab09"
      },
      "execution_count": null,
      "outputs": [
        {
          "output_type": "stream",
          "name": "stdout",
          "text": [
            "28/28 [==============================] - 0s 6ms/step - loss: 0.5027 - accuracy: 0.9062\n"
          ]
        },
        {
          "output_type": "execute_result",
          "data": {
            "text/plain": [
              "[0.5026807188987732, 0.9061784744262695]"
            ]
          },
          "metadata": {},
          "execution_count": 135
        }
      ]
    },
    {
      "cell_type": "code",
      "source": [
        "# turn numpy \n",
        "X_test = np.array(X_test)\n",
        "y_test = np.array(y_test)"
      ],
      "metadata": {
        "id": "FuwrascN_ias"
      },
      "execution_count": null,
      "outputs": []
    },
    {
      "cell_type": "code",
      "source": [
        "# Random prediction\n",
        "prediction_result = model.predict(X_test[113].reshape(1,32,32,1))\n",
        "\n",
        "predicted_class = prediction_result.argmax()\n",
        "predicted_probability = prediction_result.max()\n",
        "print(f\"class is: \" ,{predicted_class}, \"with\", {predicted_probability}, \"probability\")\n",
        "print(\"real class is:\" + str(y_test[113]))"
      ],
      "metadata": {
        "id": "lSCj2nMeVBe1",
        "colab": {
          "base_uri": "https://localhost:8080/"
        },
        "outputId": "9420b55d-2bdc-435b-ea15-2d8911a71fcc"
      },
      "execution_count": null,
      "outputs": [
        {
          "output_type": "stream",
          "name": "stdout",
          "text": [
            "class is:  {4} with {0.9883422} probability\n",
            "real class is:[4]\n"
          ]
        }
      ]
    },
    {
      "cell_type": "code",
      "source": [
        "a = []\n",
        "for i in range(0,873):\n",
        "  # Random prediction\n",
        "  prediction_result = model.predict(X_test[i].reshape(1,32,32,1))\n",
        "\n",
        "  predicted_class = prediction_result.argmax()\n",
        "  predicted_probability = prediction_result.max()\n",
        "  \n",
        "  if (y_test[i] != predicted_class):\n",
        "    a.append(y_test[i])\n",
        "\n",
        "plt.hist(y_test)"
      ],
      "metadata": {
        "colab": {
          "base_uri": "https://localhost:8080/",
          "height": 317
        },
        "id": "YFcVM6AA9rlq",
        "outputId": "52cdaa8c-7acf-44cd-bf9f-4a4b7208e45b"
      },
      "execution_count": null,
      "outputs": [
        {
          "output_type": "execute_result",
          "data": {
            "text/plain": [
              "(array([113.,  53., 108.,  86.,  91., 100.,  28., 109., 105.,  81.]),\n",
              " array([0. , 0.9, 1.8, 2.7, 3.6, 4.5, 5.4, 6.3, 7.2, 8.1, 9. ]),\n",
              " <a list of 10 Patch objects>)"
            ]
          },
          "metadata": {},
          "execution_count": 149
        },
        {
          "output_type": "display_data",
          "data": {
            "text/plain": [
              "<Figure size 432x288 with 1 Axes>"
            ],
            "image/png": "[encoded data removed]"
          },
          "metadata": {
            "needs_background": "light"
          }
        }
      ]
    },
    {
      "cell_type": "code",
      "source": [
        "print(a)"
      ],
      "metadata": {
        "colab": {
          "base_uri": "https://localhost:8080/"
        },
        "id": "9cYmqSlQ-jX5",
        "outputId": "2a9a37d0-adb6-4a41-c24b-b56877555972"
      },
      "execution_count": null,
      "outputs": [
        {
          "output_type": "stream",
          "name": "stdout",
          "text": [
            "[array([1]), array([2]), array([2]), array([2]), array([7]), array([9]), array([9]), array([9]), array([2]), array([5]), array([2]), array([3]), array([0]), array([4]), array([7]), array([2]), array([2]), array([3]), array([2]), array([2]), array([9]), array([5]), array([9]), array([7]), array([4]), array([3]), array([1]), array([4]), array([8]), array([5]), array([8]), array([2]), array([7]), array([1]), array([3]), array([0]), array([9]), array([9]), array([4]), array([4]), array([5]), array([5]), array([8]), array([3]), array([2]), array([2]), array([4]), array([5]), array([3]), array([0]), array([3]), array([9]), array([5]), array([2]), array([7]), array([7]), array([2]), array([5]), array([3]), array([3]), array([5]), array([9]), array([5]), array([2]), array([5]), array([7]), array([8]), array([1]), array([0]), array([2]), array([1]), array([5]), array([2]), array([3]), array([2]), array([3]), array([7]), array([9]), array([2]), array([2]), array([1]), array([3])]\n"
          ]
        }
      ]
    }
  ]
}